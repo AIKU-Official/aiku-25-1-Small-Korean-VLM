{
 "cells": [
  {
   "cell_type": "code",
   "execution_count": 1,
   "id": "989b8e23",
   "metadata": {},
   "outputs": [],
   "source": [
    "import os\n",
    "import json\n",
    "from tqdm import tqdm\n",
    "from PIL import Image\n",
    "\n",
    "def find_missing_or_invalid_images(json_path: str, base_path: str) -> list:\n",
    "    \"\"\"\n",
    "    Checks if image files listed in a JSON file exist in the given base path.\n",
    "\n",
    "    Args:\n",
    "        json_path (str): Path to the JSON file.\n",
    "        base_path (str): Base directory to be prepended to the \"image\" path in each item.\n",
    "\n",
    "    Returns:\n",
    "        list: A list of relative image paths that are missing.\n",
    "    \"\"\"\n",
    "    missing_or_invalid_images = []\n",
    "    new_data = []\n",
    "\n",
    "    # Load the JSON data\n",
    "    if json_path.endswith(\".json\"):\n",
    "        with open(json_path, \"r\", encoding=\"utf-8\") as f:\n",
    "            data = json.load(f)\n",
    "    if json_path.endswith(\".jsonl\"):\n",
    "        with open(json_path, \"r\", encoding=\"utf-8\") as f:\n",
    "            data = [json.loads(line) for line in f]\n",
    "    print(f\"Loaded {len(data)} items from {json_path}\")\n",
    "    # Check each image path\n",
    "    for item in tqdm(data, total=len(data), desc=\"Checking images\"):\n",
    "        image_relative_path = item.get(\"image\", \"\")\n",
    "        if not image_relative_path:\n",
    "            continue\n",
    "        image_full_path = os.path.join(base_path, image_relative_path)\n",
    " \n",
    "        if not os.path.exists(image_full_path):\n",
    "            missing_or_invalid_images.append(image_relative_path)\n",
    "            continue\n",
    "        #continue\n",
    "        # Try to open and verify the image\n",
    "        try:\n",
    "            with Image.open(image_full_path) as img:\n",
    "                img.verify()  # verify doesn't load full image but checks integrity\n",
    "                new_data.append(item)\n",
    "                \n",
    "            \n",
    "        except Exception as e:\n",
    "            #print(f\"Invalid image {image_relative_path}: {e}\")\n",
    "            missing_or_invalid_images.append(image_relative_path)\n",
    "            \n",
    "        # Copy image to destination path\n",
    "\n",
    "\n",
    "    return missing_or_invalid_images, new_data\n"
   ]
  },
  {
   "cell_type": "code",
   "execution_count": 2,
   "id": "524829d9",
   "metadata": {},
   "outputs": [
    {
     "name": "stdout",
     "output_type": "stream",
     "text": [
      "Loaded 300 items from /home/aikusrv04/aiku/small_korean_vlm/data/korean_food/llava_food_dataset_sample.json\n"
     ]
    },
    {
     "name": "stderr",
     "output_type": "stream",
     "text": [
      "Checking images: 100%|██████████| 300/300 [00:00<00:00, 5278.02it/s]"
     ]
    },
    {
     "name": "stdout",
     "output_type": "stream",
     "text": [
      "All images exist and are valid.\n"
     ]
    },
    {
     "name": "stderr",
     "output_type": "stream",
     "text": [
      "\n"
     ]
    }
   ],
   "source": [
    "json_path = \"/home/aikusrv04/aiku/small_korean_vlm/data/korean_food/llava_food_dataset_sample.json\"\n",
    "base_directory = \"/home/aikusrv04/aiku/small_korean_vlm/data\"\n",
    "missing_or_corrupt = find_missing_or_invalid_images(json_path, base_directory)\n",
    "if missing_or_corrupt:\n",
    "    print(\"Missing or invalid images:\")\n",
    "    for img in missing_or_corrupt:\n",
    "        print(img)\n",
    "    print(f\"Total missing or invalid images: {len(missing_or_corrupt)}\")\n",
    "else:\n",
    "    print(\"All images exist and are valid.\")\n"
   ]
  },
  {
   "cell_type": "code",
   "execution_count": 56,
   "id": "2ab17667",
   "metadata": {},
   "outputs": [
    {
     "name": "stdout",
     "output_type": "stream",
     "text": [
      "Loaded 2364 items from /home/aikusrv04/aiku/small_korean_vlm/data/korean_object/korean_object_captioning.json\n"
     ]
    },
    {
     "name": "stderr",
     "output_type": "stream",
     "text": [
      "Checking images: 100%|██████████| 2364/2364 [00:00<00:00, 3314.53it/s]"
     ]
    },
    {
     "name": "stdout",
     "output_type": "stream",
     "text": [
      "All images exist and are valid.\n"
     ]
    },
    {
     "name": "stderr",
     "output_type": "stream",
     "text": [
      "\n"
     ]
    }
   ],
   "source": [
    "json_path = \"/home/aikusrv04/aiku/small_korean_vlm/data/korean_object/korean_object_captioning.json\"\n",
    "base_directory = \"/home/aikusrv04/aiku/small_korean_vlm/data\"\n",
    "missing_or_corrupt, new_data = find_missing_or_invalid_images(json_path, base_directory)\n",
    "if missing_or_corrupt:\n",
    "    print(\"Missing or invalid images:\")\n",
    "    for img in missing_or_corrupt:\n",
    "        print(img)\n",
    "    print(f\"Total missing or invalid images: {len(missing_or_corrupt)}\")\n",
    "    print(f\"Total valid items: {len(new_data)}\")\n",
    "else:\n",
    "    print(\"All images exist and are valid.\")\n"
   ]
  },
  {
   "cell_type": "code",
   "execution_count": 57,
   "id": "f6c653e3",
   "metadata": {},
   "outputs": [
    {
     "name": "stdout",
     "output_type": "stream",
     "text": [
      "Loaded 51485 items from /home/aikusrv04/aiku/small_korean_vlm/data/korean_ocr_education/korean_ocr_education_sampled.json\n"
     ]
    },
    {
     "name": "stderr",
     "output_type": "stream",
     "text": [
      "Checking images: 100%|██████████| 51485/51485 [04:41<00:00, 182.97it/s]"
     ]
    },
    {
     "name": "stdout",
     "output_type": "stream",
     "text": [
      "All images exist and are valid.\n"
     ]
    },
    {
     "name": "stderr",
     "output_type": "stream",
     "text": [
      "\n"
     ]
    }
   ],
   "source": [
    "json_path = \"/home/aikusrv04/aiku/small_korean_vlm/data/korean_ocr_education/korean_ocr_education_sampled.json\"\n",
    "base_directory = \"/home/aikusrv04/aiku/small_korean_vlm/data\"\n",
    "missing_or_corrupt, new_data = find_missing_or_invalid_images(json_path, base_directory)\n",
    "if missing_or_corrupt:\n",
    "    print(\"Missing or invalid images:\")\n",
    "    #for img in missing_or_corrupt:\n",
    "    #    print(img)\n",
    "    print(f\"Total missing or invalid images: {len(missing_or_corrupt)}\")\n",
    "    print(f\"Total valid items: {len(new_data)}\")\n",
    "else:\n",
    "    print(\"All images exist and are valid.\")\n"
   ]
  },
  {
   "cell_type": "code",
   "execution_count": 52,
   "id": "2c8c34fb",
   "metadata": {},
   "outputs": [
    {
     "name": "stdout",
     "output_type": "stream",
     "text": [
      "Loaded 28267 items from /home/aikusrv04/aiku/small_korean_vlm/data/korean_visualization_qa/korean_visualization_qa_train.json\n"
     ]
    },
    {
     "name": "stderr",
     "output_type": "stream",
     "text": [
      "Checking images: 100%|██████████| 28267/28267 [00:09<00:00, 2905.04it/s]"
     ]
    },
    {
     "name": "stdout",
     "output_type": "stream",
     "text": [
      "All images exist and are valid.\n"
     ]
    },
    {
     "name": "stderr",
     "output_type": "stream",
     "text": [
      "\n"
     ]
    }
   ],
   "source": [
    "json_path = \"/home/aikusrv04/aiku/small_korean_vlm/data/korean_visualization_qa/korean_visualization_qa_train.json\"\n",
    "base_directory = \"/home/aikusrv04/aiku/small_korean_vlm/data\"\n",
    "missing_or_corrupt, new_data = find_missing_or_invalid_images(json_path, base_directory)\n",
    "if missing_or_corrupt:\n",
    "    print(\"Missing or invalid images:\")\n",
    "    #for img in missing_or_corrupt:\n",
    "    #    print(img)\n",
    "    print(f\"Total missing or invalid images: {len(missing_or_corrupt)}\")\n",
    "    print(f\"Total valid items: {len(new_data)}\")\n",
    "else:\n",
    "    print(\"All images exist and are valid.\")\n"
   ]
  },
  {
   "cell_type": "code",
   "execution_count": 53,
   "id": "6af7f780",
   "metadata": {},
   "outputs": [
    {
     "name": "stdout",
     "output_type": "stream",
     "text": [
      "Loaded 22765 items from /home/aikusrv04/aiku/small_korean_vlm/data/korean_image/korean_image_single_conversation.json\n"
     ]
    },
    {
     "name": "stderr",
     "output_type": "stream",
     "text": [
      "Checking images: 100%|██████████| 22765/22765 [00:02<00:00, 8734.84it/s]"
     ]
    },
    {
     "name": "stdout",
     "output_type": "stream",
     "text": [
      "All images exist and are valid.\n"
     ]
    },
    {
     "name": "stderr",
     "output_type": "stream",
     "text": [
      "\n"
     ]
    }
   ],
   "source": [
    "json_path = \"/home/aikusrv04/aiku/small_korean_vlm/data/korean_image/korean_image_single_conversation.json\"\n",
    "base_directory = \"/home/aikusrv04/aiku/small_korean_vlm/data\"\n",
    "missing_or_corrupt, new_data = find_missing_or_invalid_images(json_path, base_directory)\n",
    "if missing_or_corrupt:\n",
    "    print(\"Missing or invalid images:\")\n",
    "    #for img in missing_or_corrupt:\n",
    "    #    print(img)\n",
    "    print(f\"Total missing or invalid images: {len(missing_or_corrupt)}\")\n",
    "    print(f\"Total valid items: {len(new_data)}\")\n",
    "else:\n",
    "    print(\"All images exist and are valid.\")\n"
   ]
  },
  {
   "cell_type": "code",
   "execution_count": 9,
   "id": "437ae156",
   "metadata": {},
   "outputs": [
    {
     "name": "stdout",
     "output_type": "stream",
     "text": [
      "Loaded 98726 items from /home/aikusrv04/aiku/small_korean_vlm/data/korean_text_in_the_wild_ocr/text_in_the_wild_final.json\n"
     ]
    },
    {
     "name": "stderr",
     "output_type": "stream",
     "text": [
      "Checking images: 100%|██████████| 98726/98726 [00:22<00:00, 4346.03it/s]"
     ]
    },
    {
     "name": "stdout",
     "output_type": "stream",
     "text": [
      "All images exist and are valid.\n"
     ]
    },
    {
     "name": "stderr",
     "output_type": "stream",
     "text": [
      "\n"
     ]
    }
   ],
   "source": [
    "json_path = \"/home/aikusrv04/aiku/small_korean_vlm/data/korean_text_in_the_wild_ocr/text_in_the_wild_final.json\"\n",
    "base_directory = \"/home/aikusrv04/aiku/small_korean_vlm/data\"\n",
    "missing_or_corrupt, new_data = find_missing_or_invalid_images(json_path, base_directory)\n",
    "if missing_or_corrupt:\n",
    "    print(\"Missing or invalid images:\")\n",
    "    #for img in missing_or_corrupt:\n",
    "    #    print(img)\n",
    "    print(f\"Total missing or invalid images: {len(missing_or_corrupt)}\")\n",
    "    print(f\"Total valid items: {len(new_data)}\")\n",
    "else:\n",
    "    print(\"All images exist and are valid.\")\n"
   ]
  },
  {
   "cell_type": "code",
   "execution_count": 51,
   "id": "a0036723",
   "metadata": {},
   "outputs": [],
   "source": [
    "with open(\"/home/aikusrv04/aiku/small_korean_vlm/data/korean_visualization_qa/korean_visualization_qa_train.json\", \"w\", encoding=\"utf-8\") as f:\n",
    "    json.dump(new_data, f, ensure_ascii=False, indent=4)"
   ]
  }
 ],
 "metadata": {
  "kernelspec": {
   "display_name": "llava",
   "language": "python",
   "name": "python3"
  },
  "language_info": {
   "codemirror_mode": {
    "name": "ipython",
    "version": 3
   },
   "file_extension": ".py",
   "mimetype": "text/x-python",
   "name": "python",
   "nbconvert_exporter": "python",
   "pygments_lexer": "ipython3",
   "version": "3.10.16"
  }
 },
 "nbformat": 4,
 "nbformat_minor": 5
}
